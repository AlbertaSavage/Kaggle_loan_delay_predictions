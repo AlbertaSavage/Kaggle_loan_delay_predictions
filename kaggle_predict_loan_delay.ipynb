{
 "cells": [
  {
   "cell_type": "code",
   "execution_count": 5,
   "metadata": {},
   "outputs": [],
   "source": [
    "import pandas as pd\n",
    "import numpy as np"
   ]
  },
  {
   "cell_type": "code",
   "execution_count": 6,
   "metadata": {},
   "outputs": [],
   "source": [
    "## loading data ##\n",
    "xtrain = pd.read_csv('Train_X_new.csv',low_memory=False)\n",
    "ytrain = pd.read_csv('Train_Y_new.csv',low_memory=False)\n",
    "kaggle_test = pd.read_csv('all_test_X.csv',low_memory=False)"
   ]
  },
  {
   "cell_type": "code",
   "execution_count": 7,
   "metadata": {},
   "outputs": [],
   "source": [
    "## data exploration"
   ]
  },
  {
   "cell_type": "code",
   "execution_count": 8,
   "metadata": {},
   "outputs": [
    {
     "data": {
      "text/plain": [
       "ID                     53227\n",
       "T_BI_ifFarmRelated         2\n",
       "T_BI_SumLendAmount       606\n",
       "T_BI_DanbaoMethod          4\n",
       "T_BI_QianRate           7217\n",
       "T_BI_MonthlyRate         399\n",
       "T_BI_LoanUse               2\n",
       "T_BI_LendTimes             5\n",
       "T_BI_WeightRate         2799\n",
       "T_BI_IfNonPerfLoan         2\n",
       "T_BI_LoanQXValue         266\n",
       "T_BI_BenchmarkRate        23\n",
       "Rate                     610\n",
       "FaRate                   259\n",
       "RateType                   3\n",
       "QXType                     3\n",
       "Period                    11\n",
       "IfJX                       2\n",
       "Use                       14\n",
       "Type                       2\n",
       "InterestMethod             5\n",
       "Times                    223\n",
       "GiveMethond                4\n",
       "IfRollOver                 2\n",
       "IfReceivedInAdvance        2\n",
       "IfPrecise                  2\n",
       "IsFarmer                   2\n",
       "IfCredit                   2\n",
       "RatePrecision              6\n",
       "PrecisionType              3\n",
       "SilverRollFlag             2\n",
       "AssureFlag                 2\n",
       "BusinessKind               6\n",
       "Shape                      6\n",
       "Properties                 3\n",
       "LoanKind                  11\n",
       "JxType                     3\n",
       "FKRJX                      2\n",
       "IfRebate                   2\n",
       "Sex                        4\n",
       "Education                 10\n",
       "IndividualCustomer         2\n",
       "Post                       5\n",
       "HomeCondition              8\n",
       "Customer_IfCity            2\n",
       "CredType                  10\n",
       "Career                     9\n",
       "MaritalStatus              9\n",
       "Degree                     7\n",
       "PersonTrade               20\n",
       "LoanMain_TradeClass       20\n",
       "dtype: int64"
      ]
     },
     "execution_count": 8,
     "metadata": {},
     "output_type": "execute_result"
    }
   ],
   "source": [
    "## identifying possible categorical columns ##\n",
    "kaggle_test.nunique()"
   ]
  },
  {
   "cell_type": "code",
   "execution_count": 4,
   "metadata": {},
   "outputs": [
    {
     "data": {
      "text/plain": [
       "ID                     16698\n",
       "T_BI_ifFarmRelated         2\n",
       "T_BI_SumLendAmount       322\n",
       "T_BI_DanbaoMethod          4\n",
       "T_BI_QianRate           3187\n",
       "T_BI_MonthlyRate         289\n",
       "T_BI_LoanUse               2\n",
       "T_BI_LendTimes             3\n",
       "T_BI_WeightRate         1319\n",
       "T_BI_IfNonPerfLoan         2\n",
       "T_BI_LoanQXValue         142\n",
       "T_BI_BenchmarkRate        23\n",
       "Rate                     287\n",
       "FaRate                    58\n",
       "RateType                   3\n",
       "QXType                     3\n",
       "Period                     6\n",
       "IfJX                       2\n",
       "Use                       14\n",
       "Type                       2\n",
       "InterestMethod             5\n",
       "Times                     30\n",
       "GiveMethond                4\n",
       "IfRollOver                 2\n",
       "IfReceivedInAdvance        2\n",
       "IfPrecise                  2\n",
       "IsFarmer                   2\n",
       "IfCredit                   2\n",
       "RatePrecision              6\n",
       "PrecisionType              3\n",
       "SilverRollFlag             2\n",
       "AssureFlag                 2\n",
       "BusinessKind               4\n",
       "Shape                      6\n",
       "Properties                 3\n",
       "LoanKind                  10\n",
       "JxType                     3\n",
       "FKRJX                      2\n",
       "IfRebate                   2\n",
       "Sex                        4\n",
       "Education                 10\n",
       "IndividualCustomer         2\n",
       "Post                       5\n",
       "HomeCondition              8\n",
       "Customer_IfCity            2\n",
       "CredType                  10\n",
       "Career                     9\n",
       "MaritalStatus              9\n",
       "Degree                     7\n",
       "PersonTrade               20\n",
       "LoanMain_TradeClass       19\n",
       "dtype: int64"
      ]
     },
     "execution_count": 4,
     "metadata": {},
     "output_type": "execute_result"
    }
   ],
   "source": [
    "xtrain.nunique()"
   ]
  },
  {
   "cell_type": "code",
   "execution_count": 9,
   "metadata": {},
   "outputs": [
    {
     "data": {
      "text/plain": [
       "ID                       int64\n",
       "T_BI_ifFarmRelated       int64\n",
       "T_BI_SumLendAmount       int64\n",
       "T_BI_DanbaoMethod        int64\n",
       "T_BI_QianRate            int64\n",
       "T_BI_MonthlyRate         int64\n",
       "T_BI_LoanUse             int64\n",
       "T_BI_LendTimes           int64\n",
       "T_BI_WeightRate          int64\n",
       "T_BI_IfNonPerfLoan       int64\n",
       "T_BI_LoanQXValue         int64\n",
       "T_BI_BenchmarkRate       int64\n",
       "Rate                     int64\n",
       "FaRate                   int64\n",
       "RateType                 int64\n",
       "QXType                   int64\n",
       "Period                   int64\n",
       "IfJX                     int64\n",
       "Use                      int64\n",
       "Type                     int64\n",
       "InterestMethod           int64\n",
       "Times                    int64\n",
       "GiveMethond              int64\n",
       "IfRollOver               int64\n",
       "IfReceivedInAdvance      int64\n",
       "IfPrecise                int64\n",
       "IsFarmer                 int64\n",
       "IfCredit                 int64\n",
       "RatePrecision          float64\n",
       "PrecisionType            int64\n",
       "SilverRollFlag           int64\n",
       "AssureFlag               int64\n",
       "BusinessKind             int64\n",
       "Shape                    int64\n",
       "Properties               int64\n",
       "LoanKind                 int64\n",
       "JxType                   int64\n",
       "FKRJX                    int64\n",
       "IfRebate                 int64\n",
       "Sex                      int64\n",
       "Education                int64\n",
       "IndividualCustomer       int64\n",
       "Post                     int64\n",
       "HomeCondition            int64\n",
       "Customer_IfCity          int64\n",
       "CredType                object\n",
       "Career                  object\n",
       "MaritalStatus            int64\n",
       "Degree                   int64\n",
       "PersonTrade             object\n",
       "LoanMain_TradeClass     object\n",
       "dtype: object"
      ]
     },
     "execution_count": 9,
     "metadata": {},
     "output_type": "execute_result"
    }
   ],
   "source": [
    "## checking data types in the columns ##\n",
    "xtrain.dtypes"
   ]
  },
  {
   "cell_type": "code",
   "execution_count": 6,
   "metadata": {},
   "outputs": [
    {
     "data": {
      "text/plain": [
       "(16698, 51)"
      ]
     },
     "execution_count": 6,
     "metadata": {},
     "output_type": "execute_result"
    }
   ],
   "source": [
    "xtrain.shape"
   ]
  },
  {
   "cell_type": "code",
   "execution_count": 7,
   "metadata": {},
   "outputs": [
    {
     "data": {
      "text/plain": [
       "(16698, 2)"
      ]
     },
     "execution_count": 7,
     "metadata": {},
     "output_type": "execute_result"
    }
   ],
   "source": [
    "ytrain.shape"
   ]
  },
  {
   "cell_type": "code",
   "execution_count": 8,
   "metadata": {},
   "outputs": [
    {
     "data": {
      "text/plain": [
       "(53227, 51)"
      ]
     },
     "execution_count": 8,
     "metadata": {},
     "output_type": "execute_result"
    }
   ],
   "source": [
    "kaggle_test.shape"
   ]
  },
  {
   "cell_type": "code",
   "execution_count": 9,
   "metadata": {},
   "outputs": [
    {
     "data": {
      "text/html": [
       "<div>\n",
       "<style scoped>\n",
       "    .dataframe tbody tr th:only-of-type {\n",
       "        vertical-align: middle;\n",
       "    }\n",
       "\n",
       "    .dataframe tbody tr th {\n",
       "        vertical-align: top;\n",
       "    }\n",
       "\n",
       "    .dataframe thead th {\n",
       "        text-align: right;\n",
       "    }\n",
       "</style>\n",
       "<table border=\"1\" class=\"dataframe\">\n",
       "  <thead>\n",
       "    <tr style=\"text-align: right;\">\n",
       "      <th></th>\n",
       "      <th>ID</th>\n",
       "      <th>T_BI_ifFarmRelated</th>\n",
       "      <th>T_BI_SumLendAmount</th>\n",
       "      <th>T_BI_DanbaoMethod</th>\n",
       "      <th>T_BI_QianRate</th>\n",
       "      <th>T_BI_MonthlyRate</th>\n",
       "      <th>T_BI_LoanUse</th>\n",
       "      <th>T_BI_LendTimes</th>\n",
       "      <th>T_BI_WeightRate</th>\n",
       "      <th>T_BI_IfNonPerfLoan</th>\n",
       "      <th>...</th>\n",
       "      <th>IndividualCustomer</th>\n",
       "      <th>Post</th>\n",
       "      <th>HomeCondition</th>\n",
       "      <th>Customer_IfCity</th>\n",
       "      <th>CredType</th>\n",
       "      <th>Career</th>\n",
       "      <th>MaritalStatus</th>\n",
       "      <th>Degree</th>\n",
       "      <th>PersonTrade</th>\n",
       "      <th>LoanMain_TradeClass</th>\n",
       "    </tr>\n",
       "  </thead>\n",
       "  <tbody>\n",
       "    <tr>\n",
       "      <th>0</th>\n",
       "      <td>16772</td>\n",
       "      <td>0</td>\n",
       "      <td>227</td>\n",
       "      <td>1</td>\n",
       "      <td>6</td>\n",
       "      <td>313</td>\n",
       "      <td>1</td>\n",
       "      <td>1</td>\n",
       "      <td>2338</td>\n",
       "      <td>0</td>\n",
       "      <td>...</td>\n",
       "      <td>0</td>\n",
       "      <td>9</td>\n",
       "      <td>1</td>\n",
       "      <td>1</td>\n",
       "      <td>0</td>\n",
       "      <td>6</td>\n",
       "      <td>20</td>\n",
       "      <td>9</td>\n",
       "      <td>F</td>\n",
       "      <td>F</td>\n",
       "    </tr>\n",
       "    <tr>\n",
       "      <th>1</th>\n",
       "      <td>7497</td>\n",
       "      <td>0</td>\n",
       "      <td>675</td>\n",
       "      <td>1</td>\n",
       "      <td>8565</td>\n",
       "      <td>224</td>\n",
       "      <td>1</td>\n",
       "      <td>1</td>\n",
       "      <td>1386</td>\n",
       "      <td>0</td>\n",
       "      <td>...</td>\n",
       "      <td>0</td>\n",
       "      <td>1</td>\n",
       "      <td>1</td>\n",
       "      <td>1</td>\n",
       "      <td>0</td>\n",
       "      <td>4</td>\n",
       "      <td>20</td>\n",
       "      <td>9</td>\n",
       "      <td>H</td>\n",
       "      <td>A</td>\n",
       "    </tr>\n",
       "    <tr>\n",
       "      <th>2</th>\n",
       "      <td>28744</td>\n",
       "      <td>1</td>\n",
       "      <td>415</td>\n",
       "      <td>1</td>\n",
       "      <td>6972</td>\n",
       "      <td>333</td>\n",
       "      <td>1</td>\n",
       "      <td>1</td>\n",
       "      <td>2478</td>\n",
       "      <td>0</td>\n",
       "      <td>...</td>\n",
       "      <td>0</td>\n",
       "      <td>9</td>\n",
       "      <td>1</td>\n",
       "      <td>0</td>\n",
       "      <td>0</td>\n",
       "      <td>1</td>\n",
       "      <td>20</td>\n",
       "      <td>9</td>\n",
       "      <td>A</td>\n",
       "      <td>A</td>\n",
       "    </tr>\n",
       "    <tr>\n",
       "      <th>3</th>\n",
       "      <td>23456</td>\n",
       "      <td>0</td>\n",
       "      <td>415</td>\n",
       "      <td>3</td>\n",
       "      <td>6</td>\n",
       "      <td>270</td>\n",
       "      <td>1</td>\n",
       "      <td>1</td>\n",
       "      <td>1909</td>\n",
       "      <td>0</td>\n",
       "      <td>...</td>\n",
       "      <td>0</td>\n",
       "      <td>1</td>\n",
       "      <td>1</td>\n",
       "      <td>1</td>\n",
       "      <td>0</td>\n",
       "      <td>Z</td>\n",
       "      <td>20</td>\n",
       "      <td>9</td>\n",
       "      <td>C</td>\n",
       "      <td>H</td>\n",
       "    </tr>\n",
       "    <tr>\n",
       "      <th>4</th>\n",
       "      <td>11575</td>\n",
       "      <td>1</td>\n",
       "      <td>325</td>\n",
       "      <td>4</td>\n",
       "      <td>6</td>\n",
       "      <td>224</td>\n",
       "      <td>1</td>\n",
       "      <td>1</td>\n",
       "      <td>1386</td>\n",
       "      <td>0</td>\n",
       "      <td>...</td>\n",
       "      <td>0</td>\n",
       "      <td>9</td>\n",
       "      <td>1</td>\n",
       "      <td>1</td>\n",
       "      <td>0</td>\n",
       "      <td>Z</td>\n",
       "      <td>20</td>\n",
       "      <td>9</td>\n",
       "      <td>A</td>\n",
       "      <td>A</td>\n",
       "    </tr>\n",
       "  </tbody>\n",
       "</table>\n",
       "<p>5 rows × 51 columns</p>\n",
       "</div>"
      ],
      "text/plain": [
       "      ID  T_BI_ifFarmRelated  T_BI_SumLendAmount  T_BI_DanbaoMethod  \\\n",
       "0  16772                   0                 227                  1   \n",
       "1   7497                   0                 675                  1   \n",
       "2  28744                   1                 415                  1   \n",
       "3  23456                   0                 415                  3   \n",
       "4  11575                   1                 325                  4   \n",
       "\n",
       "   T_BI_QianRate  T_BI_MonthlyRate  T_BI_LoanUse  T_BI_LendTimes  \\\n",
       "0              6               313             1               1   \n",
       "1           8565               224             1               1   \n",
       "2           6972               333             1               1   \n",
       "3              6               270             1               1   \n",
       "4              6               224             1               1   \n",
       "\n",
       "   T_BI_WeightRate  T_BI_IfNonPerfLoan         ...           \\\n",
       "0             2338                   0         ...            \n",
       "1             1386                   0         ...            \n",
       "2             2478                   0         ...            \n",
       "3             1909                   0         ...            \n",
       "4             1386                   0         ...            \n",
       "\n",
       "   IndividualCustomer  Post  HomeCondition  Customer_IfCity  CredType  Career  \\\n",
       "0                   0     9              1                1         0       6   \n",
       "1                   0     1              1                1         0       4   \n",
       "2                   0     9              1                0         0       1   \n",
       "3                   0     1              1                1         0       Z   \n",
       "4                   0     9              1                1         0       Z   \n",
       "\n",
       "   MaritalStatus  Degree  PersonTrade  LoanMain_TradeClass  \n",
       "0             20       9            F                F      \n",
       "1             20       9            H                A      \n",
       "2             20       9            A                A      \n",
       "3             20       9            C                H      \n",
       "4             20       9            A                A      \n",
       "\n",
       "[5 rows x 51 columns]"
      ]
     },
     "execution_count": 9,
     "metadata": {},
     "output_type": "execute_result"
    }
   ],
   "source": [
    "xtrain.head()"
   ]
  },
  {
   "cell_type": "code",
   "execution_count": 10,
   "metadata": {},
   "outputs": [
    {
     "data": {
      "text/html": [
       "<div>\n",
       "<style scoped>\n",
       "    .dataframe tbody tr th:only-of-type {\n",
       "        vertical-align: middle;\n",
       "    }\n",
       "\n",
       "    .dataframe tbody tr th {\n",
       "        vertical-align: top;\n",
       "    }\n",
       "\n",
       "    .dataframe thead th {\n",
       "        text-align: right;\n",
       "    }\n",
       "</style>\n",
       "<table border=\"1\" class=\"dataframe\">\n",
       "  <thead>\n",
       "    <tr style=\"text-align: right;\">\n",
       "      <th></th>\n",
       "      <th>ID</th>\n",
       "      <th>T_BI_IfDelay</th>\n",
       "    </tr>\n",
       "  </thead>\n",
       "  <tbody>\n",
       "    <tr>\n",
       "      <th>0</th>\n",
       "      <td>16772</td>\n",
       "      <td>1</td>\n",
       "    </tr>\n",
       "    <tr>\n",
       "      <th>1</th>\n",
       "      <td>7497</td>\n",
       "      <td>1</td>\n",
       "    </tr>\n",
       "    <tr>\n",
       "      <th>2</th>\n",
       "      <td>28744</td>\n",
       "      <td>0</td>\n",
       "    </tr>\n",
       "    <tr>\n",
       "      <th>3</th>\n",
       "      <td>23456</td>\n",
       "      <td>1</td>\n",
       "    </tr>\n",
       "    <tr>\n",
       "      <th>4</th>\n",
       "      <td>11575</td>\n",
       "      <td>0</td>\n",
       "    </tr>\n",
       "  </tbody>\n",
       "</table>\n",
       "</div>"
      ],
      "text/plain": [
       "      ID  T_BI_IfDelay\n",
       "0  16772             1\n",
       "1   7497             1\n",
       "2  28744             0\n",
       "3  23456             1\n",
       "4  11575             0"
      ]
     },
     "execution_count": 10,
     "metadata": {},
     "output_type": "execute_result"
    }
   ],
   "source": [
    "ytrain.head()"
   ]
  },
  {
   "cell_type": "code",
   "execution_count": 10,
   "metadata": {},
   "outputs": [],
   "source": [
    "## merging xtrain and ytrain ###\n",
    "\n",
    "df = xtrain.merge(right = ytrain,on = 'ID')"
   ]
  },
  {
   "cell_type": "code",
   "execution_count": 11,
   "metadata": {},
   "outputs": [],
   "source": [
    "## adding a label column with train as the elements ####\n",
    "\n",
    "df['label'] = 'train'"
   ]
  },
  {
   "cell_type": "code",
   "execution_count": 9,
   "metadata": {},
   "outputs": [
    {
     "data": {
      "text/html": [
       "<div>\n",
       "<style scoped>\n",
       "    .dataframe tbody tr th:only-of-type {\n",
       "        vertical-align: middle;\n",
       "    }\n",
       "\n",
       "    .dataframe tbody tr th {\n",
       "        vertical-align: top;\n",
       "    }\n",
       "\n",
       "    .dataframe thead th {\n",
       "        text-align: right;\n",
       "    }\n",
       "</style>\n",
       "<table border=\"1\" class=\"dataframe\">\n",
       "  <thead>\n",
       "    <tr style=\"text-align: right;\">\n",
       "      <th></th>\n",
       "      <th>ID</th>\n",
       "      <th>T_BI_ifFarmRelated</th>\n",
       "      <th>T_BI_SumLendAmount</th>\n",
       "      <th>T_BI_DanbaoMethod</th>\n",
       "      <th>T_BI_QianRate</th>\n",
       "      <th>T_BI_MonthlyRate</th>\n",
       "      <th>T_BI_LoanUse</th>\n",
       "      <th>T_BI_LendTimes</th>\n",
       "      <th>T_BI_WeightRate</th>\n",
       "      <th>T_BI_IfNonPerfLoan</th>\n",
       "      <th>...</th>\n",
       "      <th>HomeCondition</th>\n",
       "      <th>Customer_IfCity</th>\n",
       "      <th>CredType</th>\n",
       "      <th>Career</th>\n",
       "      <th>MaritalStatus</th>\n",
       "      <th>Degree</th>\n",
       "      <th>PersonTrade</th>\n",
       "      <th>LoanMain_TradeClass</th>\n",
       "      <th>T_BI_IfDelay</th>\n",
       "      <th>label</th>\n",
       "    </tr>\n",
       "  </thead>\n",
       "  <tbody>\n",
       "    <tr>\n",
       "      <th>0</th>\n",
       "      <td>16772</td>\n",
       "      <td>0</td>\n",
       "      <td>227</td>\n",
       "      <td>1</td>\n",
       "      <td>6</td>\n",
       "      <td>313</td>\n",
       "      <td>1</td>\n",
       "      <td>1</td>\n",
       "      <td>2338</td>\n",
       "      <td>0</td>\n",
       "      <td>...</td>\n",
       "      <td>1</td>\n",
       "      <td>1</td>\n",
       "      <td>0</td>\n",
       "      <td>6</td>\n",
       "      <td>20</td>\n",
       "      <td>9</td>\n",
       "      <td>F</td>\n",
       "      <td>F</td>\n",
       "      <td>1</td>\n",
       "      <td>train</td>\n",
       "    </tr>\n",
       "    <tr>\n",
       "      <th>1</th>\n",
       "      <td>7497</td>\n",
       "      <td>0</td>\n",
       "      <td>675</td>\n",
       "      <td>1</td>\n",
       "      <td>8565</td>\n",
       "      <td>224</td>\n",
       "      <td>1</td>\n",
       "      <td>1</td>\n",
       "      <td>1386</td>\n",
       "      <td>0</td>\n",
       "      <td>...</td>\n",
       "      <td>1</td>\n",
       "      <td>1</td>\n",
       "      <td>0</td>\n",
       "      <td>4</td>\n",
       "      <td>20</td>\n",
       "      <td>9</td>\n",
       "      <td>H</td>\n",
       "      <td>A</td>\n",
       "      <td>1</td>\n",
       "      <td>train</td>\n",
       "    </tr>\n",
       "    <tr>\n",
       "      <th>2</th>\n",
       "      <td>28744</td>\n",
       "      <td>1</td>\n",
       "      <td>415</td>\n",
       "      <td>1</td>\n",
       "      <td>6972</td>\n",
       "      <td>333</td>\n",
       "      <td>1</td>\n",
       "      <td>1</td>\n",
       "      <td>2478</td>\n",
       "      <td>0</td>\n",
       "      <td>...</td>\n",
       "      <td>1</td>\n",
       "      <td>0</td>\n",
       "      <td>0</td>\n",
       "      <td>1</td>\n",
       "      <td>20</td>\n",
       "      <td>9</td>\n",
       "      <td>A</td>\n",
       "      <td>A</td>\n",
       "      <td>0</td>\n",
       "      <td>train</td>\n",
       "    </tr>\n",
       "    <tr>\n",
       "      <th>3</th>\n",
       "      <td>23456</td>\n",
       "      <td>0</td>\n",
       "      <td>415</td>\n",
       "      <td>3</td>\n",
       "      <td>6</td>\n",
       "      <td>270</td>\n",
       "      <td>1</td>\n",
       "      <td>1</td>\n",
       "      <td>1909</td>\n",
       "      <td>0</td>\n",
       "      <td>...</td>\n",
       "      <td>1</td>\n",
       "      <td>1</td>\n",
       "      <td>0</td>\n",
       "      <td>Z</td>\n",
       "      <td>20</td>\n",
       "      <td>9</td>\n",
       "      <td>C</td>\n",
       "      <td>H</td>\n",
       "      <td>1</td>\n",
       "      <td>train</td>\n",
       "    </tr>\n",
       "    <tr>\n",
       "      <th>4</th>\n",
       "      <td>11575</td>\n",
       "      <td>1</td>\n",
       "      <td>325</td>\n",
       "      <td>4</td>\n",
       "      <td>6</td>\n",
       "      <td>224</td>\n",
       "      <td>1</td>\n",
       "      <td>1</td>\n",
       "      <td>1386</td>\n",
       "      <td>0</td>\n",
       "      <td>...</td>\n",
       "      <td>1</td>\n",
       "      <td>1</td>\n",
       "      <td>0</td>\n",
       "      <td>Z</td>\n",
       "      <td>20</td>\n",
       "      <td>9</td>\n",
       "      <td>A</td>\n",
       "      <td>A</td>\n",
       "      <td>0</td>\n",
       "      <td>train</td>\n",
       "    </tr>\n",
       "  </tbody>\n",
       "</table>\n",
       "<p>5 rows × 53 columns</p>\n",
       "</div>"
      ],
      "text/plain": [
       "      ID  T_BI_ifFarmRelated  T_BI_SumLendAmount  T_BI_DanbaoMethod  \\\n",
       "0  16772                   0                 227                  1   \n",
       "1   7497                   0                 675                  1   \n",
       "2  28744                   1                 415                  1   \n",
       "3  23456                   0                 415                  3   \n",
       "4  11575                   1                 325                  4   \n",
       "\n",
       "   T_BI_QianRate  T_BI_MonthlyRate  T_BI_LoanUse  T_BI_LendTimes  \\\n",
       "0              6               313             1               1   \n",
       "1           8565               224             1               1   \n",
       "2           6972               333             1               1   \n",
       "3              6               270             1               1   \n",
       "4              6               224             1               1   \n",
       "\n",
       "   T_BI_WeightRate  T_BI_IfNonPerfLoan  ...    HomeCondition  Customer_IfCity  \\\n",
       "0             2338                   0  ...                1                1   \n",
       "1             1386                   0  ...                1                1   \n",
       "2             2478                   0  ...                1                0   \n",
       "3             1909                   0  ...                1                1   \n",
       "4             1386                   0  ...                1                1   \n",
       "\n",
       "   CredType  Career  MaritalStatus  Degree  PersonTrade  LoanMain_TradeClass  \\\n",
       "0         0       6             20       9            F                F       \n",
       "1         0       4             20       9            H                A       \n",
       "2         0       1             20       9            A                A       \n",
       "3         0       Z             20       9            C                H       \n",
       "4         0       Z             20       9            A                A       \n",
       "\n",
       "   T_BI_IfDelay  label  \n",
       "0             1  train  \n",
       "1             1  train  \n",
       "2             0  train  \n",
       "3             1  train  \n",
       "4             0  train  \n",
       "\n",
       "[5 rows x 53 columns]"
      ]
     },
     "execution_count": 9,
     "metadata": {},
     "output_type": "execute_result"
    }
   ],
   "source": [
    "df.head()"
   ]
  },
  {
   "cell_type": "code",
   "execution_count": 12,
   "metadata": {},
   "outputs": [],
   "source": [
    "## adding a label column with score as the elements ###\n",
    "\n",
    "kaggle_test['label'] = 'score'"
   ]
  },
  {
   "cell_type": "code",
   "execution_count": 6,
   "metadata": {},
   "outputs": [],
   "source": [
    "## concatenate the train and test datasets   ##########"
   ]
  },
  {
   "cell_type": "code",
   "execution_count": 13,
   "metadata": {},
   "outputs": [
    {
     "name": "stderr",
     "output_type": "stream",
     "text": [
      "C:\\Users\\Alberta\\Anaconda3\\lib\\site-packages\\ipykernel_launcher.py:1: FutureWarning: Sorting because non-concatenation axis is not aligned. A future version\n",
      "of pandas will change to not sort by default.\n",
      "\n",
      "To accept the future behavior, pass 'sort=True'.\n",
      "\n",
      "To retain the current behavior and silence the warning, pass sort=False\n",
      "\n",
      "  \"\"\"Entry point for launching an IPython kernel.\n"
     ]
    }
   ],
   "source": [
    "concat_df = pd.concat([df,kaggle_test])"
   ]
  },
  {
   "cell_type": "code",
   "execution_count": 14,
   "metadata": {},
   "outputs": [
    {
     "data": {
      "text/plain": [
       "Index(['AssureFlag', 'BusinessKind', 'Career', 'CredType', 'Customer_IfCity',\n",
       "       'Degree', 'Education', 'FKRJX', 'FaRate', 'GiveMethond',\n",
       "       'HomeCondition', 'ID', 'IfCredit', 'IfJX', 'IfPrecise', 'IfRebate',\n",
       "       'IfReceivedInAdvance', 'IfRollOver', 'IndividualCustomer',\n",
       "       'InterestMethod', 'IsFarmer', 'JxType', 'LoanKind',\n",
       "       'LoanMain_TradeClass', 'MaritalStatus', 'Period', 'PersonTrade', 'Post',\n",
       "       'PrecisionType', 'Properties', 'QXType', 'Rate', 'RatePrecision',\n",
       "       'RateType', 'Sex', 'Shape', 'SilverRollFlag', 'T_BI_BenchmarkRate',\n",
       "       'T_BI_DanbaoMethod', 'T_BI_IfDelay', 'T_BI_IfNonPerfLoan',\n",
       "       'T_BI_LendTimes', 'T_BI_LoanQXValue', 'T_BI_LoanUse',\n",
       "       'T_BI_MonthlyRate', 'T_BI_QianRate', 'T_BI_SumLendAmount',\n",
       "       'T_BI_WeightRate', 'T_BI_ifFarmRelated', 'Times', 'Type', 'Use',\n",
       "       'label'],\n",
       "      dtype='object')"
      ]
     },
     "execution_count": 14,
     "metadata": {},
     "output_type": "execute_result"
    }
   ],
   "source": [
    "concat_df.columns"
   ]
  },
  {
   "cell_type": "code",
   "execution_count": 15,
   "metadata": {},
   "outputs": [
    {
     "data": {
      "text/plain": [
       "2"
      ]
     },
     "execution_count": 15,
     "metadata": {},
     "output_type": "execute_result"
    }
   ],
   "source": [
    "concat_df['label'].nunique()"
   ]
  },
  {
   "cell_type": "code",
   "execution_count": 16,
   "metadata": {},
   "outputs": [],
   "source": [
    "concat_dfcolumns = concat_df.columns.tolist()"
   ]
  },
  {
   "cell_type": "code",
   "execution_count": 9,
   "metadata": {},
   "outputs": [],
   "source": [
    "### converting the columns to sets to perform algebra ###########\n",
    "\n",
    "## specifying the categorical columns ##\n",
    "\n",
    "concat_dfcolumns = set(concat_dfcolumns) - set(['ID','T_BI_IfDelay','T_BI_SumLendAmount','T_BI_QianRate', \n",
    "                                                'T_BI_MonthlyRate','T_BI_WeightRate','T_BI_LoanQXValue', \n",
    "                                                'T_BI_BenchmarkRate','Rate','FaRate','label'])"
   ]
  },
  {
   "cell_type": "code",
   "execution_count": 10,
   "metadata": {},
   "outputs": [],
   "source": [
    "concat_dfcolumns = list(concat_dfcolumns)"
   ]
  },
  {
   "cell_type": "code",
   "execution_count": 17,
   "metadata": {},
   "outputs": [
    {
     "data": {
      "text/plain": [
       "['Customer_IfCity',\n",
       " 'Degree',\n",
       " 'Shape',\n",
       " 'IndividualCustomer',\n",
       " 'MaritalStatus',\n",
       " 'Times',\n",
       " 'IfRebate',\n",
       " 'PersonTrade',\n",
       " 'BusinessKind',\n",
       " 'CredType',\n",
       " 'GiveMethond',\n",
       " 'Period',\n",
       " 'QXType',\n",
       " 'RatePrecision',\n",
       " 'InterestMethod',\n",
       " 'Education',\n",
       " 'Career',\n",
       " 'T_BI_ifFarmRelated',\n",
       " 'Sex',\n",
       " 'IfCredit',\n",
       " 'Type',\n",
       " 'T_BI_LoanUse',\n",
       " 'IfRollOver',\n",
       " 'SilverRollFlag',\n",
       " 'T_BI_IfNonPerfLoan',\n",
       " 'FKRJX',\n",
       " 'PrecisionType',\n",
       " 'T_BI_DanbaoMethod',\n",
       " 'T_BI_LendTimes',\n",
       " 'Post',\n",
       " 'AssureFlag',\n",
       " 'LoanKind',\n",
       " 'LoanMain_TradeClass',\n",
       " 'HomeCondition',\n",
       " 'IsFarmer',\n",
       " 'RateType',\n",
       " 'JxType',\n",
       " 'IfReceivedInAdvance',\n",
       " 'Use',\n",
       " 'IfPrecise',\n",
       " 'IfJX',\n",
       " 'Properties']"
      ]
     },
     "execution_count": 17,
     "metadata": {},
     "output_type": "execute_result"
    }
   ],
   "source": [
    "## this dataframe contains only the explanatory variables that are categorical ##\n",
    "concat_dfcolumns"
   ]
  },
  {
   "cell_type": "code",
   "execution_count": 11,
   "metadata": {},
   "outputs": [],
   "source": [
    "### creating dummy variables for categorical variables ##"
   ]
  },
  {
   "cell_type": "code",
   "execution_count": 11,
   "metadata": {},
   "outputs": [],
   "source": [
    "concat_df = pd.get_dummies(concat_df, columns = concat_dfcolumns, drop_first=False)"
   ]
  },
  {
   "cell_type": "code",
   "execution_count": 13,
   "metadata": {},
   "outputs": [
    {
     "data": {
      "text/html": [
       "<div>\n",
       "<style scoped>\n",
       "    .dataframe tbody tr th:only-of-type {\n",
       "        vertical-align: middle;\n",
       "    }\n",
       "\n",
       "    .dataframe tbody tr th {\n",
       "        vertical-align: top;\n",
       "    }\n",
       "\n",
       "    .dataframe thead th {\n",
       "        text-align: right;\n",
       "    }\n",
       "</style>\n",
       "<table border=\"1\" class=\"dataframe\">\n",
       "  <thead>\n",
       "    <tr style=\"text-align: right;\">\n",
       "      <th></th>\n",
       "      <th>FaRate</th>\n",
       "      <th>ID</th>\n",
       "      <th>Rate</th>\n",
       "      <th>T_BI_BenchmarkRate</th>\n",
       "      <th>T_BI_IfDelay</th>\n",
       "      <th>T_BI_LoanQXValue</th>\n",
       "      <th>T_BI_MonthlyRate</th>\n",
       "      <th>T_BI_QianRate</th>\n",
       "      <th>T_BI_SumLendAmount</th>\n",
       "      <th>T_BI_WeightRate</th>\n",
       "      <th>...</th>\n",
       "      <th>LoanKind_11</th>\n",
       "      <th>LoanKind_19</th>\n",
       "      <th>LoanKind_20</th>\n",
       "      <th>LoanKind_21</th>\n",
       "      <th>LoanKind_22</th>\n",
       "      <th>LoanKind_23</th>\n",
       "      <th>LoanKind_29</th>\n",
       "      <th>LoanKind_30</th>\n",
       "      <th>LoanKind_31</th>\n",
       "      <th>LoanKind_39</th>\n",
       "    </tr>\n",
       "  </thead>\n",
       "  <tbody>\n",
       "    <tr>\n",
       "      <th>0</th>\n",
       "      <td>79.0</td>\n",
       "      <td>16772</td>\n",
       "      <td>303.0</td>\n",
       "      <td>13</td>\n",
       "      <td>1.0</td>\n",
       "      <td>169</td>\n",
       "      <td>313</td>\n",
       "      <td>6</td>\n",
       "      <td>227</td>\n",
       "      <td>2338</td>\n",
       "      <td>...</td>\n",
       "      <td>0</td>\n",
       "      <td>0</td>\n",
       "      <td>0</td>\n",
       "      <td>0</td>\n",
       "      <td>0</td>\n",
       "      <td>0</td>\n",
       "      <td>0</td>\n",
       "      <td>0</td>\n",
       "      <td>0</td>\n",
       "      <td>0</td>\n",
       "    </tr>\n",
       "    <tr>\n",
       "      <th>1</th>\n",
       "      <td>61.0</td>\n",
       "      <td>7497</td>\n",
       "      <td>222.0</td>\n",
       "      <td>11</td>\n",
       "      <td>1.0</td>\n",
       "      <td>79</td>\n",
       "      <td>224</td>\n",
       "      <td>8565</td>\n",
       "      <td>675</td>\n",
       "      <td>1386</td>\n",
       "      <td>...</td>\n",
       "      <td>0</td>\n",
       "      <td>0</td>\n",
       "      <td>0</td>\n",
       "      <td>0</td>\n",
       "      <td>0</td>\n",
       "      <td>0</td>\n",
       "      <td>0</td>\n",
       "      <td>0</td>\n",
       "      <td>0</td>\n",
       "      <td>0</td>\n",
       "    </tr>\n",
       "    <tr>\n",
       "      <th>2</th>\n",
       "      <td>1.0</td>\n",
       "      <td>28744</td>\n",
       "      <td>319.0</td>\n",
       "      <td>13</td>\n",
       "      <td>0.0</td>\n",
       "      <td>214</td>\n",
       "      <td>333</td>\n",
       "      <td>6972</td>\n",
       "      <td>415</td>\n",
       "      <td>2478</td>\n",
       "      <td>...</td>\n",
       "      <td>1</td>\n",
       "      <td>0</td>\n",
       "      <td>0</td>\n",
       "      <td>0</td>\n",
       "      <td>0</td>\n",
       "      <td>0</td>\n",
       "      <td>0</td>\n",
       "      <td>0</td>\n",
       "      <td>0</td>\n",
       "      <td>0</td>\n",
       "    </tr>\n",
       "    <tr>\n",
       "      <th>3</th>\n",
       "      <td>61.0</td>\n",
       "      <td>23456</td>\n",
       "      <td>265.0</td>\n",
       "      <td>4</td>\n",
       "      <td>1.0</td>\n",
       "      <td>79</td>\n",
       "      <td>270</td>\n",
       "      <td>6</td>\n",
       "      <td>415</td>\n",
       "      <td>1909</td>\n",
       "      <td>...</td>\n",
       "      <td>0</td>\n",
       "      <td>0</td>\n",
       "      <td>0</td>\n",
       "      <td>0</td>\n",
       "      <td>0</td>\n",
       "      <td>0</td>\n",
       "      <td>0</td>\n",
       "      <td>0</td>\n",
       "      <td>0</td>\n",
       "      <td>0</td>\n",
       "    </tr>\n",
       "    <tr>\n",
       "      <th>4</th>\n",
       "      <td>1.0</td>\n",
       "      <td>11575</td>\n",
       "      <td>222.0</td>\n",
       "      <td>7</td>\n",
       "      <td>0.0</td>\n",
       "      <td>139</td>\n",
       "      <td>224</td>\n",
       "      <td>6</td>\n",
       "      <td>325</td>\n",
       "      <td>1386</td>\n",
       "      <td>...</td>\n",
       "      <td>0</td>\n",
       "      <td>0</td>\n",
       "      <td>1</td>\n",
       "      <td>0</td>\n",
       "      <td>0</td>\n",
       "      <td>0</td>\n",
       "      <td>0</td>\n",
       "      <td>0</td>\n",
       "      <td>0</td>\n",
       "      <td>0</td>\n",
       "    </tr>\n",
       "  </tbody>\n",
       "</table>\n",
       "<p>5 rows × 461 columns</p>\n",
       "</div>"
      ],
      "text/plain": [
       "   FaRate     ID   Rate  T_BI_BenchmarkRate  T_BI_IfDelay  T_BI_LoanQXValue  \\\n",
       "0    79.0  16772  303.0                  13           1.0               169   \n",
       "1    61.0   7497  222.0                  11           1.0                79   \n",
       "2     1.0  28744  319.0                  13           0.0               214   \n",
       "3    61.0  23456  265.0                   4           1.0                79   \n",
       "4     1.0  11575  222.0                   7           0.0               139   \n",
       "\n",
       "   T_BI_MonthlyRate  T_BI_QianRate  T_BI_SumLendAmount  T_BI_WeightRate  \\\n",
       "0               313              6                 227             2338   \n",
       "1               224           8565                 675             1386   \n",
       "2               333           6972                 415             2478   \n",
       "3               270              6                 415             1909   \n",
       "4               224              6                 325             1386   \n",
       "\n",
       "      ...      LoanKind_11  LoanKind_19  LoanKind_20  LoanKind_21  \\\n",
       "0     ...                0            0            0            0   \n",
       "1     ...                0            0            0            0   \n",
       "2     ...                1            0            0            0   \n",
       "3     ...                0            0            0            0   \n",
       "4     ...                0            0            1            0   \n",
       "\n",
       "   LoanKind_22  LoanKind_23  LoanKind_29  LoanKind_30  LoanKind_31  \\\n",
       "0            0            0            0            0            0   \n",
       "1            0            0            0            0            0   \n",
       "2            0            0            0            0            0   \n",
       "3            0            0            0            0            0   \n",
       "4            0            0            0            0            0   \n",
       "\n",
       "   LoanKind_39  \n",
       "0            0  \n",
       "1            0  \n",
       "2            0  \n",
       "3            0  \n",
       "4            0  \n",
       "\n",
       "[5 rows x 461 columns]"
      ]
     },
     "execution_count": 13,
     "metadata": {},
     "output_type": "execute_result"
    }
   ],
   "source": [
    "concat_df.head()"
   ]
  },
  {
   "cell_type": "code",
   "execution_count": 12,
   "metadata": {},
   "outputs": [],
   "source": [
    "## split the full data containing all train and test##"
   ]
  },
  {
   "cell_type": "code",
   "execution_count": 17,
   "metadata": {},
   "outputs": [],
   "source": [
    "alltrain = concat_df[concat_df['label'] == 'train']"
   ]
  },
  {
   "cell_type": "code",
   "execution_count": 18,
   "metadata": {},
   "outputs": [],
   "source": [
    "testx = concat_df[concat_df['label'] == 'score']"
   ]
  },
  {
   "cell_type": "code",
   "execution_count": 19,
   "metadata": {},
   "outputs": [
    {
     "data": {
      "text/plain": [
       "Index(['AssureFlag', 'BusinessKind', 'Career', 'CredType', 'Customer_IfCity',\n",
       "       'Degree', 'Education', 'FKRJX', 'FaRate', 'GiveMethond',\n",
       "       'HomeCondition', 'ID', 'IfCredit', 'IfJX', 'IfPrecise', 'IfRebate',\n",
       "       'IfReceivedInAdvance', 'IfRollOver', 'IndividualCustomer',\n",
       "       'InterestMethod', 'IsFarmer', 'JxType', 'LoanKind',\n",
       "       'LoanMain_TradeClass', 'MaritalStatus', 'Period', 'PersonTrade', 'Post',\n",
       "       'PrecisionType', 'Properties', 'QXType', 'Rate', 'RatePrecision',\n",
       "       'RateType', 'Sex', 'Shape', 'SilverRollFlag', 'T_BI_BenchmarkRate',\n",
       "       'T_BI_DanbaoMethod', 'T_BI_IfDelay', 'T_BI_IfNonPerfLoan',\n",
       "       'T_BI_LendTimes', 'T_BI_LoanQXValue', 'T_BI_LoanUse',\n",
       "       'T_BI_MonthlyRate', 'T_BI_QianRate', 'T_BI_SumLendAmount',\n",
       "       'T_BI_WeightRate', 'T_BI_ifFarmRelated', 'Times', 'Type', 'Use',\n",
       "       'label'],\n",
       "      dtype='object')"
      ]
     },
     "execution_count": 19,
     "metadata": {},
     "output_type": "execute_result"
    }
   ],
   "source": [
    "alltrain.columns"
   ]
  },
  {
   "cell_type": "code",
   "execution_count": 20,
   "metadata": {},
   "outputs": [
    {
     "data": {
      "text/plain": [
       "Index(['AssureFlag', 'BusinessKind', 'Career', 'CredType', 'Customer_IfCity',\n",
       "       'Degree', 'Education', 'FKRJX', 'FaRate', 'GiveMethond',\n",
       "       'HomeCondition', 'ID', 'IfCredit', 'IfJX', 'IfPrecise', 'IfRebate',\n",
       "       'IfReceivedInAdvance', 'IfRollOver', 'IndividualCustomer',\n",
       "       'InterestMethod', 'IsFarmer', 'JxType', 'LoanKind',\n",
       "       'LoanMain_TradeClass', 'MaritalStatus', 'Period', 'PersonTrade', 'Post',\n",
       "       'PrecisionType', 'Properties', 'QXType', 'Rate', 'RatePrecision',\n",
       "       'RateType', 'Sex', 'Shape', 'SilverRollFlag', 'T_BI_BenchmarkRate',\n",
       "       'T_BI_DanbaoMethod', 'T_BI_IfDelay', 'T_BI_IfNonPerfLoan',\n",
       "       'T_BI_LendTimes', 'T_BI_LoanQXValue', 'T_BI_LoanUse',\n",
       "       'T_BI_MonthlyRate', 'T_BI_QianRate', 'T_BI_SumLendAmount',\n",
       "       'T_BI_WeightRate', 'T_BI_ifFarmRelated', 'Times', 'Type', 'Use',\n",
       "       'label'],\n",
       "      dtype='object')"
      ]
     },
     "execution_count": 20,
     "metadata": {},
     "output_type": "execute_result"
    }
   ],
   "source": [
    "testx.columns"
   ]
  },
  {
   "cell_type": "code",
   "execution_count": 21,
   "metadata": {},
   "outputs": [],
   "source": [
    "alltrain = alltrain.drop('label', axis = 1)\n",
    "testx = testx.drop('label', axis = 1)"
   ]
  },
  {
   "cell_type": "code",
   "execution_count": 22,
   "metadata": {},
   "outputs": [
    {
     "data": {
      "text/plain": [
       "Index(['AssureFlag', 'BusinessKind', 'Career', 'CredType', 'Customer_IfCity',\n",
       "       'Degree', 'Education', 'FKRJX', 'FaRate', 'GiveMethond',\n",
       "       'HomeCondition', 'ID', 'IfCredit', 'IfJX', 'IfPrecise', 'IfRebate',\n",
       "       'IfReceivedInAdvance', 'IfRollOver', 'IndividualCustomer',\n",
       "       'InterestMethod', 'IsFarmer', 'JxType', 'LoanKind',\n",
       "       'LoanMain_TradeClass', 'MaritalStatus', 'Period', 'PersonTrade', 'Post',\n",
       "       'PrecisionType', 'Properties', 'QXType', 'Rate', 'RatePrecision',\n",
       "       'RateType', 'Sex', 'Shape', 'SilverRollFlag', 'T_BI_BenchmarkRate',\n",
       "       'T_BI_DanbaoMethod', 'T_BI_IfDelay', 'T_BI_IfNonPerfLoan',\n",
       "       'T_BI_LendTimes', 'T_BI_LoanQXValue', 'T_BI_LoanUse',\n",
       "       'T_BI_MonthlyRate', 'T_BI_QianRate', 'T_BI_SumLendAmount',\n",
       "       'T_BI_WeightRate', 'T_BI_ifFarmRelated', 'Times', 'Type', 'Use'],\n",
       "      dtype='object')"
      ]
     },
     "execution_count": 22,
     "metadata": {},
     "output_type": "execute_result"
    }
   ],
   "source": [
    "alltrain.columns"
   ]
  },
  {
   "cell_type": "code",
   "execution_count": 23,
   "metadata": {},
   "outputs": [
    {
     "data": {
      "text/plain": [
       "Index(['AssureFlag', 'BusinessKind', 'Career', 'CredType', 'Customer_IfCity',\n",
       "       'Degree', 'Education', 'FKRJX', 'FaRate', 'GiveMethond',\n",
       "       'HomeCondition', 'ID', 'IfCredit', 'IfJX', 'IfPrecise', 'IfRebate',\n",
       "       'IfReceivedInAdvance', 'IfRollOver', 'IndividualCustomer',\n",
       "       'InterestMethod', 'IsFarmer', 'JxType', 'LoanKind',\n",
       "       'LoanMain_TradeClass', 'MaritalStatus', 'Period', 'PersonTrade', 'Post',\n",
       "       'PrecisionType', 'Properties', 'QXType', 'Rate', 'RatePrecision',\n",
       "       'RateType', 'Sex', 'Shape', 'SilverRollFlag', 'T_BI_BenchmarkRate',\n",
       "       'T_BI_DanbaoMethod', 'T_BI_IfDelay', 'T_BI_IfNonPerfLoan',\n",
       "       'T_BI_LendTimes', 'T_BI_LoanQXValue', 'T_BI_LoanUse',\n",
       "       'T_BI_MonthlyRate', 'T_BI_QianRate', 'T_BI_SumLendAmount',\n",
       "       'T_BI_WeightRate', 'T_BI_ifFarmRelated', 'Times', 'Type', 'Use'],\n",
       "      dtype='object')"
      ]
     },
     "execution_count": 23,
     "metadata": {},
     "output_type": "execute_result"
    }
   ],
   "source": [
    "testx.columns"
   ]
  },
  {
   "cell_type": "code",
   "execution_count": 24,
   "metadata": {},
   "outputs": [],
   "source": [
    "## dropping the id column; not an explanatory variable##\n",
    "\n",
    "alltrain = alltrain.drop('ID', axis = 1)"
   ]
  },
  {
   "cell_type": "code",
   "execution_count": 25,
   "metadata": {},
   "outputs": [
    {
     "data": {
      "text/plain": [
       "Index(['AssureFlag', 'BusinessKind', 'Career', 'CredType', 'Customer_IfCity',\n",
       "       'Degree', 'Education', 'FKRJX', 'FaRate', 'GiveMethond',\n",
       "       'HomeCondition', 'IfCredit', 'IfJX', 'IfPrecise', 'IfRebate',\n",
       "       'IfReceivedInAdvance', 'IfRollOver', 'IndividualCustomer',\n",
       "       'InterestMethod', 'IsFarmer', 'JxType', 'LoanKind',\n",
       "       'LoanMain_TradeClass', 'MaritalStatus', 'Period', 'PersonTrade', 'Post',\n",
       "       'PrecisionType', 'Properties', 'QXType', 'Rate', 'RatePrecision',\n",
       "       'RateType', 'Sex', 'Shape', 'SilverRollFlag', 'T_BI_BenchmarkRate',\n",
       "       'T_BI_DanbaoMethod', 'T_BI_IfDelay', 'T_BI_IfNonPerfLoan',\n",
       "       'T_BI_LendTimes', 'T_BI_LoanQXValue', 'T_BI_LoanUse',\n",
       "       'T_BI_MonthlyRate', 'T_BI_QianRate', 'T_BI_SumLendAmount',\n",
       "       'T_BI_WeightRate', 'T_BI_ifFarmRelated', 'Times', 'Type', 'Use'],\n",
       "      dtype='object')"
      ]
     },
     "execution_count": 25,
     "metadata": {},
     "output_type": "execute_result"
    }
   ],
   "source": [
    "alltrain.columns"
   ]
  },
  {
   "cell_type": "code",
   "execution_count": 26,
   "metadata": {},
   "outputs": [],
   "source": [
    "testx = testx.drop('ID', axis = 1)"
   ]
  },
  {
   "cell_type": "code",
   "execution_count": 27,
   "metadata": {},
   "outputs": [
    {
     "data": {
      "text/plain": [
       "Index(['AssureFlag', 'BusinessKind', 'Career', 'CredType', 'Customer_IfCity',\n",
       "       'Degree', 'Education', 'FKRJX', 'FaRate', 'GiveMethond',\n",
       "       'HomeCondition', 'IfCredit', 'IfJX', 'IfPrecise', 'IfRebate',\n",
       "       'IfReceivedInAdvance', 'IfRollOver', 'IndividualCustomer',\n",
       "       'InterestMethod', 'IsFarmer', 'JxType', 'LoanKind',\n",
       "       'LoanMain_TradeClass', 'MaritalStatus', 'Period', 'PersonTrade', 'Post',\n",
       "       'PrecisionType', 'Properties', 'QXType', 'Rate', 'RatePrecision',\n",
       "       'RateType', 'Sex', 'Shape', 'SilverRollFlag', 'T_BI_BenchmarkRate',\n",
       "       'T_BI_DanbaoMethod', 'T_BI_IfDelay', 'T_BI_IfNonPerfLoan',\n",
       "       'T_BI_LendTimes', 'T_BI_LoanQXValue', 'T_BI_LoanUse',\n",
       "       'T_BI_MonthlyRate', 'T_BI_QianRate', 'T_BI_SumLendAmount',\n",
       "       'T_BI_WeightRate', 'T_BI_ifFarmRelated', 'Times', 'Type', 'Use'],\n",
       "      dtype='object')"
      ]
     },
     "execution_count": 27,
     "metadata": {},
     "output_type": "execute_result"
    }
   ],
   "source": [
    "testx.columns"
   ]
  },
  {
   "cell_type": "code",
   "execution_count": 28,
   "metadata": {},
   "outputs": [],
   "source": [
    "## dropping the response variable ##"
   ]
  },
  {
   "cell_type": "code",
   "execution_count": 29,
   "metadata": {},
   "outputs": [],
   "source": [
    "testx = testx.drop('T_BI_IfDelay',axis = 1)"
   ]
  },
  {
   "cell_type": "code",
   "execution_count": 30,
   "metadata": {},
   "outputs": [
    {
     "data": {
      "text/plain": [
       "Index(['AssureFlag', 'BusinessKind', 'Career', 'CredType', 'Customer_IfCity',\n",
       "       'Degree', 'Education', 'FKRJX', 'FaRate', 'GiveMethond',\n",
       "       'HomeCondition', 'IfCredit', 'IfJX', 'IfPrecise', 'IfRebate',\n",
       "       'IfReceivedInAdvance', 'IfRollOver', 'IndividualCustomer',\n",
       "       'InterestMethod', 'IsFarmer', 'JxType', 'LoanKind',\n",
       "       'LoanMain_TradeClass', 'MaritalStatus', 'Period', 'PersonTrade', 'Post',\n",
       "       'PrecisionType', 'Properties', 'QXType', 'Rate', 'RatePrecision',\n",
       "       'RateType', 'Sex', 'Shape', 'SilverRollFlag', 'T_BI_BenchmarkRate',\n",
       "       'T_BI_DanbaoMethod', 'T_BI_IfNonPerfLoan', 'T_BI_LendTimes',\n",
       "       'T_BI_LoanQXValue', 'T_BI_LoanUse', 'T_BI_MonthlyRate', 'T_BI_QianRate',\n",
       "       'T_BI_SumLendAmount', 'T_BI_WeightRate', 'T_BI_ifFarmRelated', 'Times',\n",
       "       'Type', 'Use'],\n",
       "      dtype='object')"
      ]
     },
     "execution_count": 30,
     "metadata": {},
     "output_type": "execute_result"
    }
   ],
   "source": [
    "testx.columns"
   ]
  },
  {
   "cell_type": "code",
   "execution_count": 31,
   "metadata": {},
   "outputs": [],
   "source": [
    "##alltrain = alltrain.drop('ID', axis = 1,inplace=True)"
   ]
  },
  {
   "cell_type": "code",
   "execution_count": 32,
   "metadata": {},
   "outputs": [],
   "source": [
    "X = alltrain.drop(columns=['T_BI_IfDelay']).copy()"
   ]
  },
  {
   "cell_type": "code",
   "execution_count": 33,
   "metadata": {},
   "outputs": [],
   "source": [
    "## response variable ##\n",
    "y = alltrain['T_BI_IfDelay'].copy()"
   ]
  },
  {
   "cell_type": "code",
   "execution_count": 34,
   "metadata": {},
   "outputs": [
    {
     "data": {
      "text/plain": [
       "Index(['AssureFlag', 'BusinessKind', 'Career', 'CredType', 'Customer_IfCity',\n",
       "       'Degree', 'Education', 'FKRJX', 'FaRate', 'GiveMethond',\n",
       "       'HomeCondition', 'IfCredit', 'IfJX', 'IfPrecise', 'IfRebate',\n",
       "       'IfReceivedInAdvance', 'IfRollOver', 'IndividualCustomer',\n",
       "       'InterestMethod', 'IsFarmer', 'JxType', 'LoanKind',\n",
       "       'LoanMain_TradeClass', 'MaritalStatus', 'Period', 'PersonTrade', 'Post',\n",
       "       'PrecisionType', 'Properties', 'QXType', 'Rate', 'RatePrecision',\n",
       "       'RateType', 'Sex', 'Shape', 'SilverRollFlag', 'T_BI_BenchmarkRate',\n",
       "       'T_BI_DanbaoMethod', 'T_BI_IfNonPerfLoan', 'T_BI_LendTimes',\n",
       "       'T_BI_LoanQXValue', 'T_BI_LoanUse', 'T_BI_MonthlyRate', 'T_BI_QianRate',\n",
       "       'T_BI_SumLendAmount', 'T_BI_WeightRate', 'T_BI_ifFarmRelated', 'Times',\n",
       "       'Type', 'Use'],\n",
       "      dtype='object')"
      ]
     },
     "execution_count": 34,
     "metadata": {},
     "output_type": "execute_result"
    }
   ],
   "source": [
    "X.columns"
   ]
  },
  {
   "cell_type": "code",
   "execution_count": 35,
   "metadata": {},
   "outputs": [],
   "source": [
    "from sklearn.model_selection import train_test_split"
   ]
  },
  {
   "cell_type": "code",
   "execution_count": 36,
   "metadata": {},
   "outputs": [],
   "source": [
    "X_train,X_test,y_train,y_test = train_test_split(X,y,random_state = 101)"
   ]
  },
  {
   "cell_type": "code",
   "execution_count": 37,
   "metadata": {},
   "outputs": [
    {
     "data": {
      "text/html": [
       "<div>\n",
       "<style scoped>\n",
       "    .dataframe tbody tr th:only-of-type {\n",
       "        vertical-align: middle;\n",
       "    }\n",
       "\n",
       "    .dataframe tbody tr th {\n",
       "        vertical-align: top;\n",
       "    }\n",
       "\n",
       "    .dataframe thead th {\n",
       "        text-align: right;\n",
       "    }\n",
       "</style>\n",
       "<table border=\"1\" class=\"dataframe\">\n",
       "  <thead>\n",
       "    <tr style=\"text-align: right;\">\n",
       "      <th></th>\n",
       "      <th>AssureFlag</th>\n",
       "      <th>BusinessKind</th>\n",
       "      <th>Career</th>\n",
       "      <th>CredType</th>\n",
       "      <th>Customer_IfCity</th>\n",
       "      <th>Degree</th>\n",
       "      <th>Education</th>\n",
       "      <th>FKRJX</th>\n",
       "      <th>FaRate</th>\n",
       "      <th>GiveMethond</th>\n",
       "      <th>...</th>\n",
       "      <th>T_BI_LoanQXValue</th>\n",
       "      <th>T_BI_LoanUse</th>\n",
       "      <th>T_BI_MonthlyRate</th>\n",
       "      <th>T_BI_QianRate</th>\n",
       "      <th>T_BI_SumLendAmount</th>\n",
       "      <th>T_BI_WeightRate</th>\n",
       "      <th>T_BI_ifFarmRelated</th>\n",
       "      <th>Times</th>\n",
       "      <th>Type</th>\n",
       "      <th>Use</th>\n",
       "    </tr>\n",
       "  </thead>\n",
       "  <tbody>\n",
       "    <tr>\n",
       "      <th>10806</th>\n",
       "      <td>2</td>\n",
       "      <td>1</td>\n",
       "      <td>Z</td>\n",
       "      <td>0</td>\n",
       "      <td>1</td>\n",
       "      <td>9</td>\n",
       "      <td>99</td>\n",
       "      <td>0</td>\n",
       "      <td>61.0</td>\n",
       "      <td>1</td>\n",
       "      <td>...</td>\n",
       "      <td>117</td>\n",
       "      <td>1</td>\n",
       "      <td>270</td>\n",
       "      <td>6</td>\n",
       "      <td>415</td>\n",
       "      <td>1909</td>\n",
       "      <td>0</td>\n",
       "      <td>2.0</td>\n",
       "      <td>1</td>\n",
       "      <td>11</td>\n",
       "    </tr>\n",
       "    <tr>\n",
       "      <th>762</th>\n",
       "      <td>2</td>\n",
       "      <td>1</td>\n",
       "      <td>Z</td>\n",
       "      <td>0</td>\n",
       "      <td>0</td>\n",
       "      <td>9</td>\n",
       "      <td>99</td>\n",
       "      <td>0</td>\n",
       "      <td>28.0</td>\n",
       "      <td>1</td>\n",
       "      <td>...</td>\n",
       "      <td>214</td>\n",
       "      <td>1</td>\n",
       "      <td>270</td>\n",
       "      <td>6</td>\n",
       "      <td>415</td>\n",
       "      <td>1909</td>\n",
       "      <td>1</td>\n",
       "      <td>13.0</td>\n",
       "      <td>2</td>\n",
       "      <td>12</td>\n",
       "    </tr>\n",
       "    <tr>\n",
       "      <th>11556</th>\n",
       "      <td>2</td>\n",
       "      <td>1</td>\n",
       "      <td>Z</td>\n",
       "      <td>0</td>\n",
       "      <td>0</td>\n",
       "      <td>9</td>\n",
       "      <td>60</td>\n",
       "      <td>0</td>\n",
       "      <td>61.0</td>\n",
       "      <td>1</td>\n",
       "      <td>...</td>\n",
       "      <td>79</td>\n",
       "      <td>1</td>\n",
       "      <td>106</td>\n",
       "      <td>6</td>\n",
       "      <td>191</td>\n",
       "      <td>404</td>\n",
       "      <td>1</td>\n",
       "      <td>2.0</td>\n",
       "      <td>1</td>\n",
       "      <td>11</td>\n",
       "    </tr>\n",
       "    <tr>\n",
       "      <th>1091</th>\n",
       "      <td>2</td>\n",
       "      <td>1</td>\n",
       "      <td>5</td>\n",
       "      <td>0</td>\n",
       "      <td>0</td>\n",
       "      <td>9</td>\n",
       "      <td>60</td>\n",
       "      <td>0</td>\n",
       "      <td>79.0</td>\n",
       "      <td>1</td>\n",
       "      <td>...</td>\n",
       "      <td>139</td>\n",
       "      <td>1</td>\n",
       "      <td>313</td>\n",
       "      <td>6</td>\n",
       "      <td>191</td>\n",
       "      <td>2338</td>\n",
       "      <td>1</td>\n",
       "      <td>7.0</td>\n",
       "      <td>1</td>\n",
       "      <td>12</td>\n",
       "    </tr>\n",
       "    <tr>\n",
       "      <th>2578</th>\n",
       "      <td>2</td>\n",
       "      <td>1</td>\n",
       "      <td>0</td>\n",
       "      <td>0</td>\n",
       "      <td>1</td>\n",
       "      <td>99</td>\n",
       "      <td>99</td>\n",
       "      <td>0</td>\n",
       "      <td>1.0</td>\n",
       "      <td>1</td>\n",
       "      <td>...</td>\n",
       "      <td>30</td>\n",
       "      <td>1</td>\n",
       "      <td>359</td>\n",
       "      <td>6701</td>\n",
       "      <td>649</td>\n",
       "      <td>2711</td>\n",
       "      <td>0</td>\n",
       "      <td>2.0</td>\n",
       "      <td>1</td>\n",
       "      <td>11</td>\n",
       "    </tr>\n",
       "  </tbody>\n",
       "</table>\n",
       "<p>5 rows × 50 columns</p>\n",
       "</div>"
      ],
      "text/plain": [
       "       AssureFlag  BusinessKind Career CredType  Customer_IfCity  Degree  \\\n",
       "10806           2             1      Z        0                1       9   \n",
       "762             2             1      Z        0                0       9   \n",
       "11556           2             1      Z        0                0       9   \n",
       "1091            2             1      5        0                0       9   \n",
       "2578            2             1      0        0                1      99   \n",
       "\n",
       "       Education  FKRJX  FaRate  GiveMethond ...   T_BI_LoanQXValue  \\\n",
       "10806         99      0    61.0            1 ...                117   \n",
       "762           99      0    28.0            1 ...                214   \n",
       "11556         60      0    61.0            1 ...                 79   \n",
       "1091          60      0    79.0            1 ...                139   \n",
       "2578          99      0     1.0            1 ...                 30   \n",
       "\n",
       "       T_BI_LoanUse  T_BI_MonthlyRate  T_BI_QianRate  T_BI_SumLendAmount  \\\n",
       "10806             1               270              6                 415   \n",
       "762               1               270              6                 415   \n",
       "11556             1               106              6                 191   \n",
       "1091              1               313              6                 191   \n",
       "2578              1               359           6701                 649   \n",
       "\n",
       "       T_BI_WeightRate  T_BI_ifFarmRelated  Times  Type  Use  \n",
       "10806             1909                   0    2.0     1   11  \n",
       "762               1909                   1   13.0     2   12  \n",
       "11556              404                   1    2.0     1   11  \n",
       "1091              2338                   1    7.0     1   12  \n",
       "2578              2711                   0    2.0     1   11  \n",
       "\n",
       "[5 rows x 50 columns]"
      ]
     },
     "execution_count": 37,
     "metadata": {},
     "output_type": "execute_result"
    }
   ],
   "source": [
    "X_train.head()"
   ]
  },
  {
   "cell_type": "code",
   "execution_count": null,
   "metadata": {},
   "outputs": [],
   "source": [
    "## decision tree and bagging ##"
   ]
  },
  {
   "cell_type": "code",
   "execution_count": 22,
   "metadata": {},
   "outputs": [
    {
     "name": "stderr",
     "output_type": "stream",
     "text": [
      "c:\\users\\alberta\\anaconda3\\envs\\udemy\\lib\\site-packages\\sklearn\\ensemble\\weight_boosting.py:29: DeprecationWarning: numpy.core.umath_tests is an internal NumPy module and should not be imported. It will be removed in a future NumPy release.\n",
      "  from numpy.core.umath_tests import inner1d\n"
     ]
    },
    {
     "data": {
      "text/plain": [
       "BaggingClassifier(base_estimator=DecisionTreeClassifier(class_weight=None, criterion='gini', max_depth=None,\n",
       "            max_features=None, max_leaf_nodes=None,\n",
       "            min_impurity_decrease=0.0, min_impurity_split=None,\n",
       "            min_samples_leaf=1, min_samples_split=2,\n",
       "            min_weight_fraction_leaf=0.0, presort=False, random_state=None,\n",
       "            splitter='best'),\n",
       "         bootstrap=True, bootstrap_features=False, max_features=1.0,\n",
       "         max_samples=0.8, n_estimators=1000, n_jobs=1, oob_score=False,\n",
       "         random_state=1, verbose=0, warm_start=False)"
      ]
     },
     "execution_count": 22,
     "metadata": {},
     "output_type": "execute_result"
    }
   ],
   "source": [
    "from sklearn.tree import DecisionTreeClassifier\n",
    "from sklearn.ensemble import BaggingClassifier\n",
    "\n",
    "tree = DecisionTreeClassifier()\n",
    "bag = BaggingClassifier(tree, n_estimators=1000, max_samples=0.8,\n",
    "                        random_state=1)\n",
    "\n",
    "bag.fit(X_train, y_train)\n"
   ]
  },
  {
   "cell_type": "code",
   "execution_count": 23,
   "metadata": {},
   "outputs": [],
   "source": [
    "Test predictions\n",
    "predictionbt = bag.predict(X_test)"
   ]
  },
  {
   "cell_type": "code",
   "execution_count": 24,
   "metadata": {},
   "outputs": [],
   "source": [
    "from sklearn.metrics import classification_report,confusion_matrix"
   ]
  },
  {
   "cell_type": "code",
   "execution_count": 25,
   "metadata": {},
   "outputs": [
    {
     "name": "stdout",
     "output_type": "stream",
     "text": [
      "             precision    recall  f1-score   support\n",
      "\n",
      "        0.0       0.90      0.91      0.90      2479\n",
      "        1.0       0.86      0.86      0.86      1696\n",
      "\n",
      "avg / total       0.89      0.89      0.89      4175\n",
      "\n"
     ]
    }
   ],
   "source": [
    "print(classification_report(y_test,predictionbt))"
   ]
  },
  {
   "cell_type": "code",
   "execution_count": 26,
   "metadata": {},
   "outputs": [],
   "source": [
    "### bagging all training ###"
   ]
  },
  {
   "cell_type": "code",
   "execution_count": 27,
   "metadata": {},
   "outputs": [
    {
     "data": {
      "text/plain": [
       "BaggingClassifier(base_estimator=DecisionTreeClassifier(class_weight=None, criterion='gini', max_depth=None,\n",
       "            max_features=None, max_leaf_nodes=None,\n",
       "            min_impurity_decrease=0.0, min_impurity_split=None,\n",
       "            min_samples_leaf=1, min_samples_split=2,\n",
       "            min_weight_fraction_leaf=0.0, presort=False, random_state=None,\n",
       "            splitter='best'),\n",
       "         bootstrap=True, bootstrap_features=False, max_features=1.0,\n",
       "         max_samples=0.8, n_estimators=1000, n_jobs=1, oob_score=False,\n",
       "         random_state=1, verbose=0, warm_start=False)"
      ]
     },
     "execution_count": 27,
     "metadata": {},
     "output_type": "execute_result"
    }
   ],
   "source": [
    "bag.fit(X, y)\n"
   ]
  },
  {
   "cell_type": "code",
   "execution_count": 28,
   "metadata": {},
   "outputs": [],
   "source": [
    "## making test predictions ##\n",
    "predictionbg = bag.predict(testx)"
   ]
  },
  {
   "cell_type": "code",
   "execution_count": 30,
   "metadata": {},
   "outputs": [],
   "source": [
    "## exporting file ##\n",
    "excfile = pd.DataFrame(predictionbg)\n",
    "excfile.rename(columns={0:'Predicted'}, inplace=True)\n",
    "excfile.Predicted = excfile.Predicted.astype(int)\n",
    "kaggle_ID = kaggle_test.ID\n",
    "excfile = pd.concat([kaggle_ID, excfile], axis=1)\n",
    "filepath = 'predictionbt.csv'\n",
    "excfile.to_csv(filepath, index = False)"
   ]
  }
 ],
 "metadata": {
  "kernelspec": {
   "display_name": "Python 3",
   "language": "python",
   "name": "python3"
  },
  "language_info": {
   "codemirror_mode": {
    "name": "ipython",
    "version": 3
   },
   "file_extension": ".py",
   "mimetype": "text/x-python",
   "name": "python",
   "nbconvert_exporter": "python",
   "pygments_lexer": "ipython3",
   "version": "3.6.5"
  }
 },
 "nbformat": 4,
 "nbformat_minor": 2
}
